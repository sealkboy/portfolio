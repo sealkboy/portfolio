{
  "cells": [
    {
      "cell_type": "markdown",
      "source": [
        "**0) Conexión a MYSQL**"
      ],
      "metadata": {
        "id": "aWb4mh8E9QpL"
      },
      "id": "aWb4mh8E9QpL"
    },
    {
      "cell_type": "code",
      "execution_count": null,
      "id": "6774f2b1",
      "metadata": {
        "id": "6774f2b1"
      },
      "outputs": [],
      "source": [
        "!pip install mysql-connector-python\n",
        "import mysql.connector"
      ]
    },
    {
      "cell_type": "markdown",
      "source": [
        "**1) Extraer los datos de una tabla de una DDBB MYSQL**"
      ],
      "metadata": {
        "id": "iSnxyntM9d66"
      },
      "id": "iSnxyntM9d66"
    },
    {
      "cell_type": "code",
      "execution_count": null,
      "id": "61ab2136",
      "metadata": {
        "id": "61ab2136"
      },
      "outputs": [],
      "source": [
        "mydb = mysql.connector.connect(\n",
        "host=\"localhost\",\n",
        "user=\"root\",\n",
        "passwd=\"---\",\n",
        "    database='ventas'\n",
        ")\n",
        "mycursor = mydb.cursor()\n",
        "\n",
        "qr1=\"select * from cliente\"\n",
        "mycursor.execute(qr1)\n",
        "print (\" - VALORES DE LA TABLA 'cliente': \")\n",
        "nom_tabla_ventas_sql = (\"id\", \"nombre\", \"apellido1\", \"apellido2\", \"ciudad\", \"categoria\")\n",
        "tabla_ventas_sql = mycursor.fetchall()\n",
        "docu_tabla_ventas_sql = []\n",
        "for x in range (len(tabla_ventas_sql)):\n",
        "    docu_tabla_ventas_sql.append(dict(zip(nom_tabla_ventas_sql, tabla_ventas_sql[x])))\n",
        "\n",
        "print (docu_tabla_ventas_sql)"
      ]
    },
    {
      "cell_type": "markdown",
      "source": [
        "**2) Conexión a pymongo**"
      ],
      "metadata": {
        "id": "_-RCuKyl9o2Z"
      },
      "id": "_-RCuKyl9o2Z"
    },
    {
      "cell_type": "code",
      "execution_count": null,
      "id": "b1c0a9f7",
      "metadata": {
        "scrolled": true,
        "id": "b1c0a9f7"
      },
      "outputs": [],
      "source": [
        "!pip install pymongo\n",
        "from pymongo import MongoClient"
      ]
    },
    {
      "cell_type": "markdown",
      "source": [
        "**3) Inserta los datos de la tabla de MYSQL a colección de MongoDB**"
      ],
      "metadata": {
        "id": "EeM1TFhS9xJY"
      },
      "id": "EeM1TFhS9xJY"
    },
    {
      "cell_type": "code",
      "execution_count": null,
      "id": "d0c62c37",
      "metadata": {
        "id": "d0c62c37"
      },
      "outputs": [],
      "source": [
        "client = MongoClient('localhost')\n",
        "db = client['db0']\n",
        "col= db['tarea1']\n",
        "col_sql = col.insert_many(docu_tabla_ventas_sql)\n",
        "for x in col.find():\n",
        "    print (x)"
      ]
    },
    {
      "cell_type": "markdown",
      "source": [
        "**4) Ejecutar los siguientes comandos: insertone**"
      ],
      "metadata": {
        "id": "ceghur1N90MY"
      },
      "id": "ceghur1N90MY"
    },
    {
      "cell_type": "code",
      "execution_count": null,
      "id": "568abe47",
      "metadata": {
        "scrolled": false,
        "id": "568abe47"
      },
      "outputs": [],
      "source": [
        "#Ejecutar los siguientes comandos: insertone\n",
        "\n",
        "class bold_color:\n",
        "    BLUE = '\\033[94m'\n",
        "    BOLD = '\\033[1m'\n",
        "print ()\n",
        "print (\"COLECCIÓN DE REFERENCIA: \")\n",
        "print (\"{'_id': ObjectId('634efad642d5510c81c48dd9'), 'id': 1, 'nombre': 'Aarón', 'apellido1': 'Rivero', 'apellido2': 'Gómez', 'ciudad': 'Almería', 'categoria': 100}\")\n",
        "print()\n",
        "num = int(input(\"¿Cuántos campos desea agregar? \"))\n",
        "t1_lst = []\n",
        "t2_lst = []\n",
        "tt_lst = []\n",
        "for k in range (num):\n",
        "    t1 = input(\"Ingrese el \" + bold_color.BOLD + \"nombre\" + bold_color.BOLD + \" del campo: \")\n",
        "    t1_lst.append(t1)\n",
        "    t2 = input (\"Ingrese el \" + bold_color.BOLD + \"valor\" + bold_color.BOLD + \" del campo: \")\n",
        "    t2_lst.append(t2)\n",
        "t1_lst_tuple = tuple(t1_lst)\n",
        "t2_lst_tuple = tuple(t2_lst)\n",
        "tt_lst.append(dict(zip(t1_lst_tuple, t2_lst_tuple)))\n",
        "print (tt_lst)\n",
        "col_sql = col.insert_one(tt_lst)\n",
        "\n",
        "print ()\n",
        "print (\"COLECCIÓN ACTUALIZADA: \")\n",
        "for x in col.find():\n",
        "    print (x)\n",
        "print()"
      ]
    },
    {
      "cell_type": "markdown",
      "source": [
        "**5) Ejecutar los siguientes comandos: insertmany**"
      ],
      "metadata": {
        "id": "t7DN9RVm9_I4"
      },
      "id": "t7DN9RVm9_I4"
    },
    {
      "cell_type": "code",
      "execution_count": null,
      "id": "0add8e27",
      "metadata": {
        "id": "0add8e27"
      },
      "outputs": [],
      "source": [
        "class bold_color:\n",
        "    BLUE = '\\033[94m'\n",
        "    BOLD = '\\033[1m'\n",
        "\n",
        "print ()\n",
        "print (\"DOCUMENTO DE REFERENCIA: \")\n",
        "print (\"{'_id': ObjectId('634efad642d5510c81c48dd9'), 'id': 1, 'nombre': 'Aarón', 'apellido1': 'Rivero', 'apellido2': 'Gómez', 'ciudad': 'Almería', 'categoria': 100}\")\n",
        "print ()\n",
        "\n",
        "num_docu = int(input(\"¿Cuántos documentos desea agregar? \"))\n",
        "num_campos = int(input(\"¿Cuántos campos desea agregar? \"))\n",
        "print()\n",
        "\n",
        "\n",
        "\n",
        "campos_lst = []\n",
        "for j in range (num_campos):\n",
        "    campos = input(\">>>Introduza el campo nº\" + str(j+1) +\": \")\n",
        "    campos_lst.append(campos)\n",
        "campos_lst_tuple = tuple(campos_lst)\n",
        "print()\n",
        "\n",
        "\n",
        "\n",
        "lista_val = []\n",
        "for j in range (num_docu):\n",
        "    print (\"VALORES DEL DOCUMENTO Nº\" + str(j+1) + \": \")\n",
        "    for k in range (num_campos):\n",
        "        v = input (\"Ingrese el \" + bold_color.BOLD + \"valor\" + bold_color.BOLD + \" del campo \" + \"nº\" + str(k+1) + \": \")\n",
        "        lista_val.append(v)\n",
        "    print ()\n",
        "lista_val_tuple = tuple(lista_val)\n",
        "    \n",
        "\n",
        "\n",
        "big_lista_val = []\n",
        "dic =[]\n",
        "if num_docu>num_campos:\n",
        "    for i in range (num_docu):\n",
        "        big_lista_val.append(tuple(lista_val[i*num_campos:i*num_campos+num_campos]))\n",
        "    for h in range (num_docu):\n",
        "        dic.append(dict(zip(campos_lst_tuple, big_lista_val[h])))\n",
        "    print (big_lista_val)\n",
        "    print (dic)\n",
        "    col_sql = col.insert_many(dic)\n",
        "else:\n",
        "    for i in range (num_campos):\n",
        "        big_lista_val.append(tuple(lista_val[i*num_campos:i*num_campos+num_campos]))\n",
        "    for h in range (num_campos):\n",
        "        dic.append(dict(zip(campos_lst_tuple, big_lista_val[h])))\n",
        "    print (dic)\n",
        "    col_sql = col.insert_many(dic)\n",
        "    \n",
        "print ()\n",
        "print (\"COLECCIÓN ACTUALIZADA: \")\n",
        "for x in col.find():\n",
        "    print (x)\n",
        "print()"
      ]
    },
    {
      "cell_type": "markdown",
      "source": [
        "**6) Ejecutar los siguientes comandos: find -> sobre un campo**"
      ],
      "metadata": {
        "id": "8T1vvrSP-GAA"
      },
      "id": "8T1vvrSP-GAA"
    },
    {
      "cell_type": "code",
      "execution_count": null,
      "id": "e4082b6b",
      "metadata": {
        "id": "e4082b6b"
      },
      "outputs": [],
      "source": [
        "print()\n",
        "print (\">>>SIN 'id':\")\n",
        "for x in col.find({},{\"id\":0}):\n",
        "    print(x)\n",
        "print()\n",
        "print (\">>>SÓLO 'id':\")\n",
        "for x in col.find({},{\"id\":1}):\n",
        "    print(x)"
      ]
    },
    {
      "cell_type": "markdown",
      "source": [
        "**7) Ejecutar los siguientes comandos: find -> sobre varios campos**"
      ],
      "metadata": {
        "id": "UxuyJgNj-LFX"
      },
      "id": "UxuyJgNj-LFX"
    },
    {
      "cell_type": "code",
      "execution_count": null,
      "id": "431b29e9",
      "metadata": {
        "id": "431b29e9"
      },
      "outputs": [],
      "source": [
        "for x in col.find({},{\"_id\":1, \"nombre\":1}):\n",
        "    print(x)"
      ]
    },
    {
      "cell_type": "markdown",
      "source": [
        "**8) Ejecutar los siguientes comandos: remove -> delete one**"
      ],
      "metadata": {
        "id": "F69h-WN_-P9f"
      },
      "id": "F69h-WN_-P9f"
    },
    {
      "cell_type": "code",
      "execution_count": null,
      "id": "b6592fd4",
      "metadata": {
        "id": "b6592fd4"
      },
      "outputs": [],
      "source": [
        "for x in range (9):\n",
        "    myquery = {\"id\": x}\n",
        "    col.delete_one(myquery)\n",
        "\n",
        "print()\n",
        "print (\"COLECCIÓN ACTUALIZADA: \")\n",
        "for x in col.find():\n",
        "    print (x)\n",
        "print()"
      ]
    },
    {
      "cell_type": "markdown",
      "source": [
        "**9) Ejecutar los siguientes comandos: remove -> delete many**"
      ],
      "metadata": {
        "id": "YYFA-r9b-V0m"
      },
      "id": "YYFA-r9b-V0m"
    },
    {
      "cell_type": "code",
      "execution_count": null,
      "id": "8f502901",
      "metadata": {
        "id": "8f502901"
      },
      "outputs": [],
      "source": [
        "x = col.delete_many({})\n",
        "print(x.deleted_count, \" documentos eliminados.\")\n"
      ]
    },
    {
      "cell_type": "markdown",
      "source": [
        "**10) Ejecutar los siguientes comandos: remove -> drop**"
      ],
      "metadata": {
        "id": "agEQ6BkX-aMy"
      },
      "id": "agEQ6BkX-aMy"
    },
    {
      "cell_type": "code",
      "execution_count": null,
      "id": "a4e24cee",
      "metadata": {
        "id": "a4e24cee"
      },
      "outputs": [],
      "source": [
        "col.drop()"
      ]
    },
    {
      "cell_type": "markdown",
      "source": [
        "**11) Mostrar todos los datos de uno de los campos, ordenados de mayor a menor y seleccionar únicamente el \"id\", y luego ordenarlo de mayor a menor.**"
      ],
      "metadata": {
        "id": "clFUYPRQ-eGH"
      },
      "id": "clFUYPRQ-eGH"
    },
    {
      "cell_type": "code",
      "execution_count": null,
      "id": "128b5d28",
      "metadata": {
        "id": "128b5d28"
      },
      "outputs": [],
      "source": [
        "doc = col.find().sort(\"nombre\", -1)\n",
        "for x in doc:\n",
        "  print(x)"
      ]
    },
    {
      "cell_type": "markdown",
      "source": [
        "**12) Mostrar la media de todos los valores de uno de los campos numéricos**"
      ],
      "metadata": {
        "id": "XZpRRKNd-tLO"
      },
      "id": "XZpRRKNd-tLO"
    },
    {
      "cell_type": "code",
      "execution_count": null,
      "id": "6df29295",
      "metadata": {
        "id": "6df29295"
      },
      "outputs": [],
      "source": [
        "for x in col.aggregate([{'$group':{'_id':\"avg\", \"avgCategoria\": {'$avg': \"$categoria\"}}}]):\n",
        "    print (x)"
      ]
    },
    {
      "cell_type": "markdown",
      "source": [
        "**13) Mostrar todos los elementos diferentes de cada una de las columnas**"
      ],
      "metadata": {
        "id": "jBjcZ4CQ-4Jt"
      },
      "id": "jBjcZ4CQ-4Jt"
    },
    {
      "cell_type": "code",
      "execution_count": null,
      "id": "7687f532",
      "metadata": {
        "id": "7687f532"
      },
      "outputs": [],
      "source": [
        "mydoc = col.find()\n",
        "for x in mydoc:\n",
        "    l=list(x.keys())\n",
        "    \n",
        "for x in range (len(l)):\n",
        "    print()\n",
        "    print (\">>>\" + str(l[x]) + \": \")\n",
        "    for y in col.distinct(l[x]):\n",
        "        print (y)\n",
        "    print()"
      ]
    }
  ],
  "metadata": {
    "kernelspec": {
      "display_name": "Python 3 (ipykernel)",
      "language": "python",
      "name": "python3"
    },
    "language_info": {
      "codemirror_mode": {
        "name": "ipython",
        "version": 3
      },
      "file_extension": ".py",
      "mimetype": "text/x-python",
      "name": "python",
      "nbconvert_exporter": "python",
      "pygments_lexer": "ipython3",
      "version": "3.9.12"
    },
    "colab": {
      "provenance": [],
      "collapsed_sections": []
    }
  },
  "nbformat": 4,
  "nbformat_minor": 5
}